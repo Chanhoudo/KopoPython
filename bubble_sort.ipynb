{
  "nbformat": 4,
  "nbformat_minor": 0,
  "metadata": {
    "colab": {
      "provenance": []
    },
    "kernelspec": {
      "name": "python3",
      "display_name": "Python 3"
    },
    "language_info": {
      "name": "python"
    }
  },
  "cells": [
    {
      "cell_type": "code",
      "execution_count": 7,
      "metadata": {
        "colab": {
          "base_uri": "https://localhost:8080/",
          "height": 0
        },
        "id": "dJiWcNtfVkrV",
        "outputId": "b026885c-e98a-4a3a-cdea-1a53f63a54e0"
      },
      "outputs": [
        {
          "output_type": "stream",
          "name": "stdout",
          "text": [
            "[1, 2, 3, 4, 5, 6, 7, 8, 9]\n",
            "[9, 8, 7, 6, 5, 4, 3, 2, 1]\n"
          ]
        }
      ],
      "source": [
        "bubble = [5,3,8,4,9,1,6,2,7]\n",
        "\n",
        "def bubbleSort(bubble, mode):\n",
        "  for i in range(len(bubble)):\n",
        "    for j in range(1, len(bubble) - i):\n",
        "      if mode == 0:\n",
        "        if bubble[j-1] > bubble[j]:\n",
        "          temp = bubble[j-1]\n",
        "          bubble[j-1] = bubble[j]\n",
        "          bubble[j] = temp\n",
        "      elif mode == 1:\n",
        "        if bubble[j-1] < bubble[j]:\n",
        "          temp = bubble[j-1]\n",
        "          bubble[j-1] = bubble[j]\n",
        "          bubble[j] = temp\n",
        "  return bubble\n",
        "\n",
        "print(bubbleSort(bubble, 0))\n",
        "print(bubbleSort(bubble, 1))"
      ]
    }
  ]
}