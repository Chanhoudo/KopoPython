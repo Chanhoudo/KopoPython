{
  "nbformat": 4,
  "nbformat_minor": 0,
  "metadata": {
    "colab": {
      "provenance": []
    },
    "kernelspec": {
      "name": "python3",
      "display_name": "Python 3"
    },
    "language_info": {
      "name": "python"
    }
  },
  "cells": [
    {
      "cell_type": "code",
      "execution_count": 1,
      "metadata": {
        "id": "k3esrVF18KY3"
      },
      "outputs": [],
      "source": [
        "str_ref = \"장원영은 예쁘다. 결혼하고 싶다!!\"\n",
        "\n",
        "#str_in = input()\n",
        "str_in = \"김지원은 예쁘다. 결혼하고 싶다!!\""
      ]
    },
    {
      "cell_type": "code",
      "source": [
        "if str_ref == str_in:\n",
        "    print(\"같아요\")\n",
        "else:\n",
        "    print(\"이런...\")"
      ],
      "metadata": {
        "colab": {
          "base_uri": "https://localhost:8080/"
        },
        "id": "68kpPlQU8kM6",
        "outputId": "712e7333-3f38-4ffb-d0f7-710ba1416a84"
      },
      "execution_count": 2,
      "outputs": [
        {
          "output_type": "stream",
          "name": "stdout",
          "text": [
            "이런...\n"
          ]
        }
      ]
    },
    {
      "cell_type": "code",
      "source": [
        "if str_ref is str_in:\n",
        "    print(\"같아요\")\n",
        "else:\n",
        "    print(\"에휴...\")\n",
        "\n",
        "    for index in range(len(str_ref)):\n",
        "        #print(str_ref[index], end=\" \")\n",
        "        #print(str_in[index])\n",
        "        if str_ref[index] == str_in[index]:\n",
        "            print(str_in[index], end=\"\")\n",
        "        else:\n",
        "            print(\"_\", end=\"\")\n",
        "\n",
        "'''\n",
        "    for ch in str_ref:\n",
        "        print(ch)"
      ],
      "metadata": {
        "colab": {
          "base_uri": "https://localhost:8080/",
          "height": 71
        },
        "id": "MpBw5hTo8zya",
        "outputId": "e49d2456-c582-46c9-f5d4-a11fe7ad9adc"
      },
      "execution_count": 10,
      "outputs": [
        {
          "output_type": "stream",
          "name": "stdout",
          "text": [
            "에휴...\n",
            "___은 예쁘다. 결혼하고 싶다!!"
          ]
        },
        {
          "output_type": "execute_result",
          "data": {
            "text/plain": [
              "'\\n    for ch in str_ref:\\n        print(ch)\\n'"
            ],
            "application/vnd.google.colaboratory.intrinsic+json": {
              "type": "string"
            }
          },
          "metadata": {},
          "execution_count": 10
        }
      ]
    },
    {
      "cell_type": "code",
      "source": [
        "def str_cp(_ref, _in):\n",
        "    str_ref = _ref; str_in = _in\n",
        "\n",
        "    res = []\n",
        "    if str_ref is str_in:\n",
        "        return \"같아요\"\n",
        "    else:\n",
        "        for index in range(len(str_ref)):\n",
        "            if str_ref[index] == str_in[index]:\n",
        "                print(str_in[index], end=\"\")\n",
        "                res.append(str_in[index])\n",
        "            else:\n",
        "                print(\"_\", end=\"\")\n",
        "                res.append(\"_\")\n",
        "        return res\n",
        "\n",
        "print(str_cp(str_ref, str_in))"
      ],
      "metadata": {
        "colab": {
          "base_uri": "https://localhost:8080/"
        },
        "id": "XeW5K8Ne89b9",
        "outputId": "47dd1801-3166-4e63-a3e9-f62cc58de9b9"
      },
      "execution_count": 11,
      "outputs": [
        {
          "output_type": "stream",
          "name": "stdout",
          "text": [
            "___은 예쁘다. 결혼하고 싶다!!['_', '_', '_', '은', ' ', '예', '쁘', '다', '.', ' ', '결', '혼', '하', '고', ' ', '싶', '다', '!', '!']\n"
          ]
        }
      ]
    },
    {
      "cell_type": "code",
      "source": [],
      "metadata": {
        "id": "Dd6bdF40ANyc"
      },
      "execution_count": null,
      "outputs": []
    }
  ]
}